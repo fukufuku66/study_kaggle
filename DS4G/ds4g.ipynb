{
  "nbformat": 4,
  "nbformat_minor": 0,
  "metadata": {
    "colab": {
      "name": "ds4g.ipynb",
      "provenance": [],
      "collapsed_sections": []
    },
    "kernelspec": {
      "name": "python3",
      "display_name": "Python 3"
    }
  },
  "cells": [
    {
      "cell_type": "code",
      "metadata": {
        "id": "29-5i0RDjzEA",
        "colab_type": "code",
        "colab": {}
      },
      "source": [
        "!pip install kaggle"
      ],
      "execution_count": 0,
      "outputs": []
    },
    {
      "cell_type": "code",
      "metadata": {
        "id": "oumPI8_1j04G",
        "colab_type": "code",
        "colab": {}
      },
      "source": [
        "from googleapiclient.discovery import build\n",
        "import io, os\n",
        "from googleapiclient.http import MediaIoBaseDownload\n",
        "from google.colab import auth\n",
        "\n",
        "auth.authenticate_user()\n",
        "\n",
        "drive_service = build('drive', 'v3')\n",
        "results = drive_service.files().list(\n",
        "        q=\"name = 'kaggle.json'\", fields=\"files(id)\").execute()\n",
        "kaggle_api_key = results.get('files', [])\n",
        "\n",
        "filename = \"/root/.kaggle/kaggle.json\"\n",
        "os.makedirs(os.path.dirname(filename), exist_ok=True)\n",
        "\n",
        "request = drive_service.files().get_media(fileId=kaggle_api_key[0]['id'])\n",
        "fh = io.FileIO(filename, 'wb')\n",
        "downloader = MediaIoBaseDownload(fh, request)\n",
        "done = False\n",
        "while done is False:\n",
        "    status, done = downloader.next_chunk()\n",
        "    print(\"Download %d%%.\" % int(status.progress() * 100))\n",
        "os.chmod(filename, 600)"
      ],
      "execution_count": 0,
      "outputs": []
    },
    {
      "cell_type": "code",
      "metadata": {
        "id": "NvbYtG-6j07S",
        "colab_type": "code",
        "colab": {}
      },
      "source": [
        "!kaggle competitions list"
      ],
      "execution_count": 0,
      "outputs": []
    },
    {
      "cell_type": "code",
      "metadata": {
        "id": "S-0U7xaaj0-m",
        "colab_type": "code",
        "colab": {}
      },
      "source": [
        "!kaggle competitions download -c ds4g-environmental-insights-explorer"
      ],
      "execution_count": 0,
      "outputs": []
    },
    {
      "cell_type": "code",
      "metadata": {
        "id": "3HoN3tuxhc7O",
        "colab_type": "code",
        "colab": {}
      },
      "source": [
        "pip install rasterio"
      ],
      "execution_count": 0,
      "outputs": []
    },
    {
      "cell_type": "code",
      "metadata": {
        "id": "aLxIv0r-j1BS",
        "colab_type": "code",
        "colab": {}
      },
      "source": [
        "import numpy as np\n",
        "import pandas as pd\n",
        "import matplotlib.pyplot as plt\n",
        "%matplotlib inline\n",
        "import seaborn as sns\n",
        "\n",
        "# analysing datetime\n",
        "import datetime as dt\n",
        "from datetime import datetime\n",
        "\n",
        "# plotting geographical data\n",
        "import folium\n",
        "import rasterio as rio\n",
        "\n",
        "# file system managemant\n",
        "import os \n",
        "\n",
        "# suppress warnings\n",
        "import warnings\n",
        "warnings.filterwarnings('ignore')"
      ],
      "execution_count": 0,
      "outputs": []
    },
    {
      "cell_type": "code",
      "metadata": {
        "id": "DQH-1_0Cj1F_",
        "colab_type": "code",
        "colab": {
          "base_uri": "https://localhost:8080/",
          "height": 309
        },
        "outputId": "b99375f6-4b11-400a-bdec-fc6b65441ee3"
      },
      "source": [
        "# exploring the global power plant database\n",
        "\n",
        "global_power_plants = pd.read_csv('gppd_120_pr.csv')\n",
        "global_power_plants.head()"
      ],
      "execution_count": 15,
      "outputs": [
        {
          "output_type": "execute_result",
          "data": {
            "text/html": [
              "<div>\n",
              "<style scoped>\n",
              "    .dataframe tbody tr th:only-of-type {\n",
              "        vertical-align: middle;\n",
              "    }\n",
              "\n",
              "    .dataframe tbody tr th {\n",
              "        vertical-align: top;\n",
              "    }\n",
              "\n",
              "    .dataframe thead th {\n",
              "        text-align: right;\n",
              "    }\n",
              "</style>\n",
              "<table border=\"1\" class=\"dataframe\">\n",
              "  <thead>\n",
              "    <tr style=\"text-align: right;\">\n",
              "      <th></th>\n",
              "      <th>system:index</th>\n",
              "      <th>capacity_mw</th>\n",
              "      <th>commissioning_year</th>\n",
              "      <th>country</th>\n",
              "      <th>country_long</th>\n",
              "      <th>estimated_generation_gwh</th>\n",
              "      <th>generation_gwh_2013</th>\n",
              "      <th>generation_gwh_2014</th>\n",
              "      <th>generation_gwh_2015</th>\n",
              "      <th>generation_gwh_2016</th>\n",
              "      <th>generation_gwh_2017</th>\n",
              "      <th>geolocation_source</th>\n",
              "      <th>gppd_idnr</th>\n",
              "      <th>name</th>\n",
              "      <th>other_fuel1</th>\n",
              "      <th>other_fuel2</th>\n",
              "      <th>other_fuel3</th>\n",
              "      <th>owner</th>\n",
              "      <th>primary_fuel</th>\n",
              "      <th>source</th>\n",
              "      <th>url</th>\n",
              "      <th>wepp_id</th>\n",
              "      <th>year_of_capacity_data</th>\n",
              "      <th>.geo</th>\n",
              "    </tr>\n",
              "  </thead>\n",
              "  <tbody>\n",
              "    <tr>\n",
              "      <th>0</th>\n",
              "      <td>0000000000000000315a</td>\n",
              "      <td>15.0</td>\n",
              "      <td>1942.0</td>\n",
              "      <td>USA</td>\n",
              "      <td>United States of America</td>\n",
              "      <td>685.397712</td>\n",
              "      <td>0.0</td>\n",
              "      <td>0.0</td>\n",
              "      <td>0.0</td>\n",
              "      <td>0.0</td>\n",
              "      <td>0.0</td>\n",
              "      <td>WRI</td>\n",
              "      <td>WRI1026827</td>\n",
              "      <td>Dos Bocas</td>\n",
              "      <td>NaN</td>\n",
              "      <td>NaN</td>\n",
              "      <td>NaN</td>\n",
              "      <td>PREPA</td>\n",
              "      <td>Hydro</td>\n",
              "      <td>CEPR</td>\n",
              "      <td>http://energia.pr.gov/datos/plantas/</td>\n",
              "      <td>30936.0</td>\n",
              "      <td>0</td>\n",
              "      <td>{\"type\":\"Point\",\"coordinates\":[-66.66629863706...</td>\n",
              "    </tr>\n",
              "    <tr>\n",
              "      <th>1</th>\n",
              "      <td>000000000000000026e5</td>\n",
              "      <td>1492.0</td>\n",
              "      <td>1975.0</td>\n",
              "      <td>USA</td>\n",
              "      <td>United States of America</td>\n",
              "      <td>8334.010812</td>\n",
              "      <td>0.0</td>\n",
              "      <td>0.0</td>\n",
              "      <td>0.0</td>\n",
              "      <td>0.0</td>\n",
              "      <td>0.0</td>\n",
              "      <td>WRI</td>\n",
              "      <td>WRI1026809</td>\n",
              "      <td>Aguirre</td>\n",
              "      <td>NaN</td>\n",
              "      <td>NaN</td>\n",
              "      <td>NaN</td>\n",
              "      <td>PREPA</td>\n",
              "      <td>Oil</td>\n",
              "      <td>PREPA</td>\n",
              "      <td>http://www.prepa.com/aguirre.asp</td>\n",
              "      <td>30928.0</td>\n",
              "      <td>0</td>\n",
              "      <td>{\"type\":\"Point\",\"coordinates\":[-66.23079607357...</td>\n",
              "    </tr>\n",
              "    <tr>\n",
              "      <th>2</th>\n",
              "      <td>00000000000000002fda</td>\n",
              "      <td>990.0</td>\n",
              "      <td>1962.0</td>\n",
              "      <td>USA</td>\n",
              "      <td>United States of America</td>\n",
              "      <td>5529.940150</td>\n",
              "      <td>0.0</td>\n",
              "      <td>0.0</td>\n",
              "      <td>0.0</td>\n",
              "      <td>0.0</td>\n",
              "      <td>0.0</td>\n",
              "      <td>WRI</td>\n",
              "      <td>WRI1026811</td>\n",
              "      <td>Costa Sur</td>\n",
              "      <td>NaN</td>\n",
              "      <td>NaN</td>\n",
              "      <td>NaN</td>\n",
              "      <td>PREPA</td>\n",
              "      <td>Oil</td>\n",
              "      <td>PREPA</td>\n",
              "      <td>http://www.prepa.com/costasur.asp</td>\n",
              "      <td>30934.0</td>\n",
              "      <td>0</td>\n",
              "      <td>{\"type\":\"Point\",\"coordinates\":[-66.75340271704...</td>\n",
              "    </tr>\n",
              "    <tr>\n",
              "      <th>3</th>\n",
              "      <td>00000000000000003f76</td>\n",
              "      <td>602.0</td>\n",
              "      <td>1960.0</td>\n",
              "      <td>USA</td>\n",
              "      <td>United States of America</td>\n",
              "      <td>3362.650475</td>\n",
              "      <td>0.0</td>\n",
              "      <td>0.0</td>\n",
              "      <td>0.0</td>\n",
              "      <td>0.0</td>\n",
              "      <td>0.0</td>\n",
              "      <td>WRI</td>\n",
              "      <td>WRI1026814</td>\n",
              "      <td>Palo Seco</td>\n",
              "      <td>NaN</td>\n",
              "      <td>NaN</td>\n",
              "      <td>NaN</td>\n",
              "      <td>PREPA</td>\n",
              "      <td>Oil</td>\n",
              "      <td>PREPA</td>\n",
              "      <td>http://www.prepa.com/PALOSECO.ASP</td>\n",
              "      <td>30942.0</td>\n",
              "      <td>0</td>\n",
              "      <td>{\"type\":\"Point\",\"coordinates\":[-66.14859700475...</td>\n",
              "    </tr>\n",
              "    <tr>\n",
              "      <th>4</th>\n",
              "      <td>00000000000000002def</td>\n",
              "      <td>10.0</td>\n",
              "      <td>1915.0</td>\n",
              "      <td>USA</td>\n",
              "      <td>United States of America</td>\n",
              "      <td>456.931808</td>\n",
              "      <td>0.0</td>\n",
              "      <td>0.0</td>\n",
              "      <td>0.0</td>\n",
              "      <td>0.0</td>\n",
              "      <td>0.0</td>\n",
              "      <td>WRI</td>\n",
              "      <td>WRI1026821</td>\n",
              "      <td>Carite 1</td>\n",
              "      <td>NaN</td>\n",
              "      <td>NaN</td>\n",
              "      <td>NaN</td>\n",
              "      <td>PREPA</td>\n",
              "      <td>Hydro</td>\n",
              "      <td>PREPA</td>\n",
              "      <td>http://www.prepa.com/historia_eng.asp  https:/...</td>\n",
              "      <td>65289.0</td>\n",
              "      <td>0</td>\n",
              "      <td>{\"type\":\"Point\",\"coordinates\":[-66.10600367149...</td>\n",
              "    </tr>\n",
              "  </tbody>\n",
              "</table>\n",
              "</div>"
            ],
            "text/plain": [
              "           system:index  ...                                               .geo\n",
              "0  0000000000000000315a  ...  {\"type\":\"Point\",\"coordinates\":[-66.66629863706...\n",
              "1  000000000000000026e5  ...  {\"type\":\"Point\",\"coordinates\":[-66.23079607357...\n",
              "2  00000000000000002fda  ...  {\"type\":\"Point\",\"coordinates\":[-66.75340271704...\n",
              "3  00000000000000003f76  ...  {\"type\":\"Point\",\"coordinates\":[-66.14859700475...\n",
              "4  00000000000000002def  ...  {\"type\":\"Point\",\"coordinates\":[-66.10600367149...\n",
              "\n",
              "[5 rows x 24 columns]"
            ]
          },
          "metadata": {
            "tags": []
          },
          "execution_count": 15
        }
      ]
    },
    {
      "cell_type": "code",
      "metadata": {
        "id": "WPxVFT2ej1Ia",
        "colab_type": "code",
        "colab": {
          "base_uri": "https://localhost:8080/",
          "height": 34
        },
        "outputId": "8a5be0d1-a636-437d-854a-b9f74fabf85c"
      },
      "source": [
        "# no of different powerplants\n",
        "global_power_plants.shape"
      ],
      "execution_count": 16,
      "outputs": [
        {
          "output_type": "execute_result",
          "data": {
            "text/plain": [
              "(35, 24)"
            ]
          },
          "metadata": {
            "tags": []
          },
          "execution_count": 16
        }
      ]
    },
    {
      "cell_type": "code",
      "metadata": {
        "id": "ZM1iNberj1Lc",
        "colab_type": "code",
        "colab": {
          "base_uri": "https://localhost:8080/",
          "height": 282
        },
        "outputId": "9d9ec29d-a44c-420e-83e9-5aaca0b4b9d6"
      },
      "source": [
        "# let's check the different kinds of power plants based on primary fuel used.\n",
        "sns.barplot(x=global_power_plants['primary_fuel'].value_counts().index, y=global_power_plants['primary_fuel'].value_counts())"
      ],
      "execution_count": 18,
      "outputs": [
        {
          "output_type": "execute_result",
          "data": {
            "text/plain": [
              "<matplotlib.axes._subplots.AxesSubplot at 0x7f456ba31518>"
            ]
          },
          "metadata": {
            "tags": []
          },
          "execution_count": 18
        },
        {
          "output_type": "display_data",
          "data": {
            "image/png": "[encoded data removed]",
            "text/plain": [
              "<Figure size 432x288 with 1 Axes>"
            ]
          },
          "metadata": {
            "tags": []
          }
        }
      ]
    },
    {
      "cell_type": "code",
      "metadata": {
        "id": "krwYBe4wj1OD",
        "colab_type": "code",
        "colab": {
          "base_uri": "https://localhost:8080/",
          "height": 255
        },
        "outputId": "dd2917db-77de-48ec-d10c-4a55b263163a"
      },
      "source": [
        "global_power_plants['commissioning_year'].value_counts()"
      ],
      "execution_count": 17,
      "outputs": [
        {
          "output_type": "execute_result",
          "data": {
            "text/plain": [
              "0.0       21\n",
              "2012.0     2\n",
              "1941.0     2\n",
              "2015.0     1\n",
              "2011.0     1\n",
              "2009.0     1\n",
              "1937.0     1\n",
              "1929.0     1\n",
              "1915.0     1\n",
              "1960.0     1\n",
              "1962.0     1\n",
              "1975.0     1\n",
              "1942.0     1\n",
              "Name: commissioning_year, dtype: int64"
            ]
          },
          "metadata": {
            "tags": []
          },
          "execution_count": 17
        }
      ]
    },
    {
      "cell_type": "code",
      "metadata": {
        "id": "mPVIQjECj2F7",
        "colab_type": "code",
        "colab": {}
      },
      "source": [
        ""
      ],
      "execution_count": 0,
      "outputs": []
    }
  ]
}