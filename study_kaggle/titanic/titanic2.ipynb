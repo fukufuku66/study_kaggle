{
  "nbformat": 4,
  "nbformat_minor": 0,
  "metadata": {
    "colab": {
      "name": "titanic2",
      "provenance": [],
      "collapsed_sections": [],
      "toc_visible": true
    },
    "kernelspec": {
      "name": "python3",
      "display_name": "Python 3"
    }
  },
  "cells": [
    {
      "cell_type": "code",
      "metadata": {
        "id": "rhso1mZRKMWC",
        "colab_type": "code",
        "colab": {}
      },
      "source": [
        "!pip install kaggle"
      ],
      "execution_count": 0,
      "outputs": []
    },
    {
      "cell_type": "code",
      "metadata": {
        "id": "Vf3b_qf5JqOs",
        "colab_type": "code",
        "colab": {}
      },
      "source": [
        "from googleapiclient.discovery import build\n",
        "import io, os\n",
        "from googleapiclient.http import MediaIoBaseDownload\n",
        "from google.colab import auth\n",
        "\n",
        "auth.authenticate_user()\n",
        "\n",
        "drive_service = build('drive', 'v3')\n",
        "results = drive_service.files().list(\n",
        "        q=\"name = 'kaggle.json'\", fields=\"files(id)\").execute()\n",
        "kaggle_api_key = results.get('files', [])\n",
        "\n",
        "filename = \"/root/.kaggle/kaggle.json\"\n",
        "os.makedirs(os.path.dirname(filename), exist_ok=True)\n",
        "\n",
        "request = drive_service.files().get_media(fileId=kaggle_api_key[0]['id'])\n",
        "fh = io.FileIO(filename, 'wb')\n",
        "downloader = MediaIoBaseDownload(fh, request)\n",
        "done = False\n",
        "while done is False:\n",
        "    status, done = downloader.next_chunk()\n",
        "    print(\"Download %d%%.\" % int(status.progress() * 100))\n",
        "os.chmod(filename, 600)\n"
      ],
      "execution_count": 0,
      "outputs": []
    },
    {
      "cell_type": "code",
      "metadata": {
        "id": "7ZxrIniNJySB",
        "colab_type": "code",
        "colab": {}
      },
      "source": [
        "!kaggle competitions list"
      ],
      "execution_count": 0,
      "outputs": []
    },
    {
      "cell_type": "code",
      "metadata": {
        "id": "PjjJ2TWGJyUr",
        "colab_type": "code",
        "colab": {}
      },
      "source": [
        "!kaggle competitions download -c titanic"
      ],
      "execution_count": 0,
      "outputs": []
    },
    {
      "cell_type": "code",
      "metadata": {
        "id": "DAO6NCepJyXH",
        "colab_type": "code",
        "colab": {}
      },
      "source": [
        "import numpy as np\n",
        "import pandas as pd\n",
        "\n",
        "train_data = pd.read_csv('train.csv')\n",
        "train_data.head()"
      ],
      "execution_count": 0,
      "outputs": []
    },
    {
      "cell_type": "code",
      "metadata": {
        "id": "yBNUTd59JyZv",
        "colab_type": "code",
        "colab": {}
      },
      "source": [
        "test_data = pd.read_csv('test.csv')\n",
        "test_data.head()"
      ],
      "execution_count": 0,
      "outputs": []
    },
    {
      "cell_type": "code",
      "metadata": {
        "id": "_Pj06fb2JycJ",
        "colab_type": "code",
        "colab": {}
      },
      "source": [
        "women = train_data.loc[train_data.Sex == 'female']['Survived']\n",
        "rate_women = sum(women)/len(women)\n",
        "\n",
        "print('% of women who survived:', rate_women)"
      ],
      "execution_count": 0,
      "outputs": []
    },
    {
      "cell_type": "code",
      "metadata": {
        "id": "ik7DDNRZJye5",
        "colab_type": "code",
        "colab": {}
      },
      "source": [
        "men = train_data.loc[train_data.Sex == 'male']['Survived']\n",
        "rate_men = sum(men)/len(men)\n",
        "\n",
        "print('% of men who survived:', rate_men)"
      ],
      "execution_count": 0,
      "outputs": []
    },
    {
      "cell_type": "code",
      "metadata": {
        "id": "8UuzNsc2JyhF",
        "colab_type": "code",
        "colab": {}
      },
      "source": [
        "mean_age = train_data['Age'].mean()\n",
        "print(mean_age)"
      ],
      "execution_count": 0,
      "outputs": []
    },
    {
      "cell_type": "code",
      "metadata": {
        "id": "X8fvXHgOJylZ",
        "colab_type": "code",
        "colab": {}
      },
      "source": [
        "train_data.Age.fillna(value=mean_age, inplace=True)\n",
        "test_data.Age.fillna(value=mean_age, inplace=True)"
      ],
      "execution_count": 0,
      "outputs": []
    },
    {
      "cell_type": "code",
      "metadata": {
        "id": "NQD5oBqYSgNM",
        "colab_type": "code",
        "colab": {}
      },
      "source": [
        "train_data['Sex_bool'] = train_data['Sex'].apply(lambda x: 1 if x == 'male' else 0)\n",
        "train_data.head()"
      ],
      "execution_count": 0,
      "outputs": []
    },
    {
      "cell_type": "code",
      "metadata": {
        "id": "Q2j7SvcDSgPo",
        "colab_type": "code",
        "colab": {}
      },
      "source": [
        "test_data['Sex_bool'] = test_data['Sex'].apply(lambda x: 1 if x == 'male' else 0)\n",
        "test_data.head()"
      ],
      "execution_count": 0,
      "outputs": []
    },
    {
      "cell_type": "code",
      "metadata": {
        "id": "oNQ85KHWSgU1",
        "colab_type": "code",
        "colab": {}
      },
      "source": [
        "y = train_data['Survived']\n",
        "\n",
        "features = ['Pclass', 'Sex_bool', 'SibSp', 'Parch', 'Age']\n",
        "X = train_data[features]\n",
        "X_test = test_data[features]"
      ],
      "execution_count": 0,
      "outputs": []
    },
    {
      "cell_type": "code",
      "metadata": {
        "id": "rlEfXVwrSgW7",
        "colab_type": "code",
        "colab": {}
      },
      "source": [
        "from xgboost import XGBClassifier\n",
        "from sklearn.metrics import mean_absolute_error\n",
        "\n",
        "my_model = XGBClassifier(n_estimators=1000, learning_rate=0.5, objective='binary:logistic', max_depth=5)\n",
        "my_model.fit(X, y)\n",
        "\n",
        "predictions = my_model.predict(X_test)"
      ],
      "execution_count": 0,
      "outputs": []
    },
    {
      "cell_type": "code",
      "metadata": {
        "id": "GRjcOVXqSgbC",
        "colab_type": "code",
        "colab": {}
      },
      "source": [
        "output = pd.DataFrame({'PassengerId': test_data.PassengerId, 'Survived': predictions})\n",
        "output.to_csv('my_submission.csv', index=False)"
      ],
      "execution_count": 0,
      "outputs": []
    },
    {
      "cell_type": "code",
      "metadata": {
        "id": "i4A0j77IJyxH",
        "colab_type": "code",
        "colab": {}
      },
      "source": [
        "!cat my_submission.csv"
      ],
      "execution_count": 0,
      "outputs": []
    },
    {
      "cell_type": "code",
      "metadata": {
        "id": "jEMqQVkNJyj7",
        "colab_type": "code",
        "colab": {}
      },
      "source": [
        "!kaggle competitions submit -c titanic -f my_submission.csv -m 'second submit'"
      ],
      "execution_count": 0,
      "outputs": []
    }
  ]
}